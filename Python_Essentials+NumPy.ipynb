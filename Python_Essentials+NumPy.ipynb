{
 "cells": [
  {
   "cell_type": "markdown",
   "metadata": {},
   "source": [
    "### Background\n",
    "\n",
    "##### In the classic card game War, a standard deck of (52) playing cards is shuffled and distributed evenly among two players (26 cards each). For each round of gameplay, the players lay out one card at a time (for our purposes, in order of how they have been dealt) and the player with the higher card wins the round (where Ace = 1, 2-10 equal their face value, and Jack, Queen, and King = 11, 12, 13, respectively, across each of the four suits: diamonds, hearts, clubs, spades).\n",
    "\n"
   ]
  },
  {
   "cell_type": "markdown",
   "metadata": {},
   "source": [
    "## Exercise 1"
   ]
  },
  {
   "cell_type": "code",
   "execution_count": 2,
   "metadata": {},
   "outputs": [],
   "source": [
    "import numpy as np\n",
    "import random"
   ]
  },
  {
   "cell_type": "code",
   "execution_count": 3,
   "metadata": {
    "scrolled": true
   },
   "outputs": [
    {
     "name": "stdout",
     "output_type": "stream",
     "text": [
      "Deck of playing cards:  [1, 1, 1, 1, 2, 2, 2, 2, 3, 3, 3, 3, 4, 4, 4, 4, 5, 5, 5, 5, 6, 6, 6, 6, 7, 7, 7, 7, 8, 8, 8, 8, 9, 9, 9, 9, 10, 10, 10, 10, 11, 11, 11, 11, 12, 12, 12, 12, 13, 13, 13, 13]\n",
      "Total value associated with a full deck of cards: 364\n"
     ]
    }
   ],
   "source": [
    "#Step 1.1\n",
    "\n",
    "# generate a list of values associated with a standard deck of playing cards\n",
    "#cards have their values same as the value printed on them,suits are not differentiated,11~Jack,12~Queen,13~King\n",
    "\n",
    "deck=[]\n",
    "[deck.extend([i]*4) for i in range(1,14)]  \n",
    "print(\"Deck of playing cards: \",deck)\n",
    "\n",
    "#Step 1.2\n",
    "#Total value associated with a full deck of cards\n",
    "full_deck_value=sum(deck)\n",
    "\n",
    "#Total value associated with a full deck of cards, which is also the maximum total for a game.\n",
    "print(\"Total value associated with a full deck of cards:\",full_deck_value)\n"
   ]
  },
  {
   "cell_type": "markdown",
   "metadata": {},
   "source": [
    "## Exercise 2"
   ]
  },
  {
   "cell_type": "code",
   "execution_count": 4,
   "metadata": {},
   "outputs": [
    {
     "name": "stdout",
     "output_type": "stream",
     "text": [
      "Hand: ([3, 1, 4, 10, 1, 12, 2, 13, 10, 1, 1, 4, 7, 11, 13, 3, 4, 8, 9, 4, 5, 6, 3, 5, 7, 10], [11, 8, 2, 12, 7, 6, 9, 3, 7, 9, 9, 6, 13, 2, 13, 10, 8, 5, 5, 11, 12, 12, 11, 6, 8, 2])\n",
      "Player1_hand: [3, 1, 4, 10, 1, 12, 2, 13, 10, 1, 1, 4, 7, 11, 13, 3, 4, 8, 9, 4, 5, 6, 3, 5, 7, 10]\n",
      "Player2_hand: [11, 8, 2, 12, 7, 6, 9, 3, 7, 9, 9, 6, 13, 2, 13, 10, 8, 5, 5, 11, 12, 12, 11, 6, 8, 2]\n",
      "Player1cards= 26\n",
      "Player2cards= 26\n",
      "Total Value Of Player1's Hand:  157\n",
      "Total Value Of Player1's Hand:  207\n"
     ]
    }
   ],
   "source": [
    "#step 2.1\n",
    "\"\"\"Define a function deal that will shuffle (randomize) and distribute the 52 playing cards evenly to two players\"\"\"\n",
    "\"\"\"and return a tuple of each player's hand (as a list of values)\"\"\"\n",
    "\n",
    "\n",
    "def deal():\n",
    "    deck=[]\n",
    "    [deck.extend([i]*4) for i in range(1,14)]\n",
    "    np_deck=np.array(deck)\n",
    "    np.random.shuffle(np_deck)\n",
    "    player1=[]                              \n",
    "    player2=[]                                            \n",
    "    for i in range(0,52):                                #distribute cards to two players alternately,one after another\n",
    "        if i%2==0:                                       #the first card from the shuffled deck goes to player1 and \n",
    "                                                          #the next goes to player2\n",
    "            player1.append(np_deck[i])\n",
    "        else:\n",
    "            player2.append(np_deck[i])\n",
    "            temp=(player1,player2) \n",
    "    return temp\n",
    "\n",
    "#Step 2.2\n",
    "\n",
    "#Deal a hand to two players \n",
    "hand=deal()\n",
    "print(\"Hand:\",hand)\n",
    "\n",
    "#display each player's hand\n",
    "player1_hand=hand[0]\n",
    "player2_hand=hand[1]\n",
    "print(\"Player1_hand:\",player1_hand)\n",
    "print(\"Player2_hand:\",player2_hand)\n",
    "\n",
    "#Print each player's number of cards\n",
    "print(\"Player1cards=\",len(player1_hand))\n",
    "print(\"Player2cards=\",len(player2_hand))\n",
    "\n",
    "#Print the total value of the hand of each player.\n",
    "Total_Value_Of_Player1_Hand= sum(player1_hand)\n",
    "Total_Value_Of_Player2_Hand= sum(player2_hand)\n",
    "print(\"Total Value Of Player1's Hand: \",sum(player1_hand))\n",
    "print(\"Total Value Of Player1's Hand: \",sum(player2_hand))    \n",
    "   "
   ]
  },
  {
   "cell_type": "markdown",
   "metadata": {},
   "source": [
    "## Exersice 3   Addition War"
   ]
  },
  {
   "cell_type": "markdown",
   "metadata": {},
   "source": [
    "###    Step 3.1\n",
    "\n",
    "#####  Steps of what should occur in a game of Addition War:\n",
    "\n",
    "##### 1. Shuffle deck\n",
    "##### 2. Deal half of the deck to each player\n",
    "##### 3. Two cards are played by each player at a time.\n",
    "##### 4. The player with the higher sum of two card values wins the round.\n",
    "##### 5.The winner of the round takes their winning two cards and the loser's two cards and places the cards in his or her discard pile.\n",
    "#####      (Each player has a \"discard\" pile)\n",
    "##### 6. In case of a tie,there will be additional plays of two cards each until one player wins all of the cards in the round.(i.e with two cards on the table, each player shows/plays two more cards, so on till tie breaks)\n",
    "##### 7. If the players run out of cards in the middle of a tiebreaker, each player's respective cards (for that round) are returned to them\n",
    "#####     for the final score.\n",
    "##### 8.Game terminates after a maximum of 13 rounds (occurs when there are no ties) and the deck is exhausted.\n",
    "##### 9.The player with the highest total card points (in their discard pile) wins the game."
   ]
  },
  {
   "cell_type": "code",
   "execution_count": 12,
   "metadata": {},
   "outputs": [
    {
     "name": "stdout",
     "output_type": "stream",
     "text": [
      "The Game Concludes as each player has played all of their cards once.\n",
      "Player 2 is The Winner Of The Game\n",
      "Card totals for The Winner 0.0\n",
      "Card totals for The loser 0.0\n",
      "(2, 0.0, 0.0)\n"
     ]
    }
   ],
   "source": [
    "#Step 3.2 \n",
    "#Defining a function play that will simulate a single game of Addition War between two players.\n",
    "count=0\n",
    "def play():\n",
    "    card1=[]\n",
    "    card2=[]\n",
    "    discard1=[]\n",
    "    discard2=[]\n",
    "    while len(player1_hand)!=0:\n",
    "        \n",
    "        sum1=sum(card1)\n",
    "        sum2=sum(card2)\n",
    "        if sum1>sum2:\n",
    "            #\"Player 1 is the winner of the round\"\n",
    "            discard1.append(card1[:])\n",
    "            discard1.append(card2[:])\n",
    "        \n",
    "            card1.clear()\n",
    "            card2.clear()\n",
    "            \n",
    "        \n",
    "        elif sum2>sum1:\n",
    "            #print(\"player 2 is the winner of the round\")\n",
    "            discard2.append(card1[:])\n",
    "            discard2.append(card2[:])\n",
    "            \n",
    "            card1.clear()\n",
    "            card2.clear()\n",
    "            \n",
    "        else :\n",
    "            \n",
    "            card1.append(player1_hand.pop(0))\n",
    "            card1.append(player1_hand.pop(0))\n",
    "            card2.append(player2_hand.pop(0))\n",
    "            card2.append(player2_hand.pop(0))\n",
    "        \n",
    "    if len(card1)!=0:\n",
    "        print(\"Players ran out of cards in the middle of the tie breaker,return cards to respective players,The Game Concludes.\")\n",
    "        discard1.append(card1)\n",
    "        discard2.append(card2)\n",
    "    else:\n",
    "        print(\"The Game Concludes as each player has played all of their cards once.\")\n",
    "     \n",
    "\n",
    "    final_sum1=np.sum(np.sum(discard1[:]))\n",
    "    final_sum2=np.sum(np.sum(discard2[:]))\n",
    "    if(final_sum1>final_sum2):\n",
    "        print(\"Player 1 is The Winner Of The Game\")\n",
    "        winner= 1\n",
    "        print(\"Card totals for The winner\",final_sum1)\n",
    "        card_totals_w=final_sum1\n",
    "        print(\"Card totals for The Loser\", final_sum2)\n",
    "        card_totals_l=final_sum2\n",
    "    else:\n",
    "        print(\"Player 2 is The Winner Of The Game\")\n",
    "        winner=2\n",
    "        print(\"Card totals for The Winner\",final_sum2)\n",
    "        card_totals_w=final_sum2\n",
    "        print(\"Card totals for The loser\", final_sum1)\n",
    "        card_totals_l=final_sum1\n",
    " # Step 3.3 \n",
    "#from function return the winner of the game and the card totals for the winner and loser.\n",
    "    return  winner,card_totals_w, card_totals_l                      \n",
    "print(play())   \n"
   ]
  },
  {
   "cell_type": "markdown",
   "metadata": {},
   "source": [
    "## Exercise 4"
   ]
  },
  {
   "cell_type": "code",
   "execution_count": 6,
   "metadata": {},
   "outputs": [
    {
     "name": "stdout",
     "output_type": "stream",
     "text": [
      "The final scores for the Winning Player: [221 196 270 231 187 248 193 207 223 231 247 221 199 219 199 247 212 260\n",
      " 270 207]\n",
      "The final scores for the losing Player: [143 168  94 133 177 116 171 157 141 133 117 143 165 145 165 117 152 104\n",
      "  94 157]\n"
     ]
    }
   ],
   "source": [
    "# Step up\n",
    "#Simulate n = 20 games of Addition War\n",
    "#Analysis of the gameplay\n",
    "count=0\n",
    "lowest_initial_total=364\n",
    "highest_initial_total=0\n",
    "winner_initial_total=[]\n",
    "loser_initial_total=[]\n",
    "def play():\n",
    "    global count\n",
    "    global lowest_initial_total\n",
    "    global highest_initial_total\n",
    "    global winner_initial_total\n",
    "    global loser_initial_total\n",
    "    hand=deal()\n",
    "    player1_hand=hand[0]\n",
    "    player2_hand=hand[1]\n",
    "    Total_Value_Of_Player1_Hand= sum(player1_hand)\n",
    "    Total_Value_Of_Player2_Hand= sum(player2_hand)\n",
    "    card1=[]\n",
    "    card2=[]\n",
    "    discard1=[]\n",
    "    discard2=[]\n",
    "\n",
    "    while len(player1_hand)!=0:\n",
    "        sum1=sum(card1)\n",
    "        sum2=sum(card2)\n",
    "        if sum1>sum2:\n",
    "            discard1.append(card1[:])\n",
    "            discard1.append(card2[:])\n",
    "            card1.clear()\n",
    "            card2.clear()\n",
    "        elif sum2>sum1:\n",
    "            discard2.append(card1[:])\n",
    "            discard2.append(card2[:])\n",
    "            card1.clear()\n",
    "            card2.clear()\n",
    "            \n",
    "        else :\n",
    "            card1.append(player1_hand.pop(0))\n",
    "            card1.append(player1_hand.pop(0))\n",
    "            card2.append(player2_hand.pop(0))\n",
    "            card2.append(player2_hand.pop(0))\n",
    "        \n",
    "    if len(card1)!=0:\n",
    "        discard1.append(card1)\n",
    "        discard2.append(card2)\n",
    "\n",
    "    final_sum1=np.sum(np.sum(discard1[:]))\n",
    "    final_sum2=np.sum(np.sum(discard2[:]))\n",
    "    if(final_sum1>final_sum2):\n",
    "        if Total_Value_Of_Player2_Hand>Total_Value_Of_Player1_Hand:       #proportion of games which resulted in a winner  \n",
    "            count=count+1                                                 # that had a lower initial total than their opponent\n",
    "            if lowest_initial_total>Total_Value_Of_Player1_Hand:          \n",
    "                lowest_initial_total=Total_Value_Of_Player1_Hand \n",
    "            if highest_initial_total<Total_Value_Of_Player2_Hand:\n",
    "                highest_initial_total=Total_Value_Of_Player2_Hand\n",
    "        winner_initial_total.append(Total_Value_Of_Player1_Hand)\n",
    "        loser_initial_total.append(Total_Value_Of_Player2_Hand)\n",
    "                \n",
    "        winner= 1\n",
    "        card_totals_w=final_sum1\n",
    "        card_totals_l=final_sum2\n",
    "    else:\n",
    "        if Total_Value_Of_Player2_Hand<Total_Value_Of_Player1_Hand:      #proportion of games which resulted in a winner \n",
    "            count=count+1                                                #that had a lower initial total than their opponent                \n",
    "            if lowest_initial_total>Total_Value_Of_Player2_Hand:\n",
    "                lowest_initial_total=Total_Value_Of_Player2_Hand\n",
    "            if highest_initial_total<Total_Value_Of_Player1_Hand:\n",
    "                highest_initial_total=Total_Value_Of_Player1_Hand\n",
    "        winner_initial_total.append(Total_Value_Of_Player2_Hand)\n",
    "        loser_initial_total.append(Total_Value_Of_Player1_Hand)\n",
    "        \n",
    "                    \n",
    "        winner=2\n",
    "        card_totals_w=final_sum2\n",
    "        card_totals_l=final_sum1\n",
    "    return  winner,card_totals_w, card_totals_l , Total_Value_Of_Player1_Hand, Total_Value_Of_Player2_Hand\n",
    "    \n",
    "list1=[]\n",
    "list2=[]\n",
    "list3=[]\n",
    "list4=[]\n",
    "\n",
    "#Using for loop to Simulate n = 20 games of Addition War.\n",
    "\n",
    "for i in range(20):\n",
    "    winner,card_totals_w, card_totals_l,Total_Value_Of_Player1_Hand, Total_Value_Of_Player2_Hand=play()\n",
    "    list1.append(card_totals_w)\n",
    "    list2.append(card_totals_l)\n",
    "    list3.append(Total_Value_Of_Player1_Hand)\n",
    "    list4.append(Total_Value_Of_Player2_Hand)\n",
    "    #print(winner,card_totals_w, card_totals_l,Total_Value_Of_Player1_Hand, Total_Value_Of_Player2_Hand)\n",
    "\n",
    "#Converting lists to numpy arrays for ease of operaion    \n",
    "np_final_scores_Winner=np.array(list1)\n",
    "np_final_scores_Loser=np.array(list2)\n",
    "np_Total_Initial_Value_Of_Player1_Hand=np.array(list3)\n",
    "np_Total_Initial_Value_Of_Player1_Hand=np.array(list4)\n",
    "\n",
    "\n",
    "#Step 4.1\n",
    "\n",
    "#Extarct values\n",
    "#The final scores for the winning and losing players\n",
    "print(\"The final scores for the Winning Player:\",np_final_scores_Winner)\n",
    "print(\"The final scores for the losing Player:\",np_final_scores_Loser)\n",
    "\n"
   ]
  },
  {
   "cell_type": "markdown",
   "metadata": {},
   "source": [
    "#### Min, Mean and Max Calculations"
   ]
  },
  {
   "cell_type": "code",
   "execution_count": 7,
   "metadata": {},
   "outputs": [
    {
     "name": "stdout",
     "output_type": "stream",
     "text": [
      "Mean,Min,Max of Winning Player Final Scores respectively are: 224.4 187 270\n",
      "Mean,Min,Max of Losing Player Final Scores respectively are: 139.6 94 177\n"
     ]
    }
   ],
   "source": [
    "# Produce descriptive statistics\n",
    "# Min\n",
    "min1=np.min(np_final_scores_Winner)\n",
    "#print(\"Min of the final scores for the Winning Player:\" ,min1)\n",
    "min2=np.min(np_final_scores_Loser)\n",
    "#print(\"Min of the final scores for the Losing Player:\" ,min2)\n",
    "\n",
    "# Mean\n",
    "mean1=np.mean(np_final_scores_Winner)    \n",
    "#print(\"Mean of the final scores for the Winning Player:\" ,mean1)\n",
    "mean2=np.mean(np_final_scores_Loser)\n",
    "#print(\"Mean of the final scores for the Losing Player:\" ,mean2)\n",
    "\n",
    "# Max\n",
    "max1=np.max(np_final_scores_Winner)\n",
    "#print(\"Max of the final scores for the Winning Player:\" ,max1)\n",
    "max2=np.max(np_final_scores_Loser)\n",
    "#print(\"Max of the final scores for the Losing Player:\" ,max2)\n",
    "\n",
    "print(\"Mean,Min,Max of Winning Player Final Scores respectively are:\",mean1,min1,max1)\n",
    "print(\"Mean,Min,Max of Losing Player Final Scores respectively are:\",mean2,min2,max2)"
   ]
  },
  {
   "cell_type": "markdown",
   "metadata": {},
   "source": [
    "####  The mean of final winning scores is greater than the mean of the final losing score, the min value of Winning Scores is higher than the max value of losing score. It can be seen that the winners won the games with good margins.\n"
   ]
  },
  {
   "cell_type": "code",
   "execution_count": 8,
   "metadata": {},
   "outputs": [
    {
     "name": "stdout",
     "output_type": "stream",
     "text": [
      "5\n",
      "Proportion of games that resulted in a winner that had a lower initial total than their opponent 0.25\n",
      "The lowest initial total to win a game 171\n",
      "The highest initial total to lose a game 193\n"
     ]
    }
   ],
   "source": [
    "# Step 4.2\n",
    "\n",
    "#proportion of games resulted in a winner that had a lower initial total than their opponent for 20 gameplays\n",
    "print(count)\n",
    "proportion=count/20\n",
    "print(\"Proportion of games that resulted in a winner that had a lower initial total than their opponent\",proportion)\n",
    "print(\"The lowest initial total to win a game\",lowest_initial_total)\n",
    "print(\"The highest initial total to lose a game\",highest_initial_total)"
   ]
  },
  {
   "cell_type": "code",
   "execution_count": 9,
   "metadata": {},
   "outputs": [
    {
     "name": "stdout",
     "output_type": "stream",
     "text": [
      "The initial total scores of winners: [191, 190, 196, 189, 171, 189, 183, 181, 203, 188, 189, 183, 187, 179, 180, 184, 176, 209, 191, 197]\n",
      "The final total scores for the Winning Player: [221, 196, 270, 231, 187, 248, 193, 207, 223, 231, 247, 221, 199, 219, 199, 247, 212, 260, 270, 207]\n"
     ]
    },
    {
     "data": {
      "text/plain": [
       "array([[1.        , 0.53411715],\n",
       "       [0.53411715, 1.        ]])"
      ]
     },
     "execution_count": 9,
     "metadata": {},
     "output_type": "execute_result"
    }
   ],
   "source": [
    "# Step 4.3\n",
    "#Calculating the (linear) correlation between the initial and final totals for winners\n",
    "print(\"The initial total scores of winners:\",winner_initial_total)\n",
    "print(\"The final total scores for the Winning Player:\",list1)\n",
    "np.corrcoef(winner_initial_total,list1)\n"
   ]
  },
  {
   "cell_type": "markdown",
   "metadata": {},
   "source": [
    "#### The corelation coefficent is a number not vey close to~1, it can be said that the intial and final scores of winners are moderately related therefore it could not be inffered with certainity that if a player had a higher initial score will be Winner of the game, but as coefficient will move closer to 1 they will have a strong realtionship and one will positively and strongly affect the other."
   ]
  },
  {
   "cell_type": "code",
   "execution_count": 10,
   "metadata": {},
   "outputs": [
    {
     "name": "stdout",
     "output_type": "stream",
     "text": [
      "The initial total scores of losers: [173, 174, 168, 175, 193, 175, 181, 183, 161, 176, 175, 181, 177, 185, 184, 180, 188, 155, 173, 167]\n",
      "The final total scores for the losing Player: [143, 168, 94, 133, 177, 116, 171, 157, 141, 133, 117, 143, 165, 145, 165, 117, 152, 104, 94, 157]\n"
     ]
    },
    {
     "data": {
      "text/plain": [
       "array([[1.        , 0.53411715],\n",
       "       [0.53411715, 1.        ]])"
      ]
     },
     "execution_count": 10,
     "metadata": {},
     "output_type": "execute_result"
    }
   ],
   "source": [
    "##Calculating the (linear) correlation between the initial and final totals for losers\n",
    "print(\"The initial total scores of losers:\",loser_initial_total)\n",
    "print(\"The final total scores for the losing Player:\",list2)\n",
    "np.corrcoef(loser_initial_total,list2)"
   ]
  },
  {
   "cell_type": "markdown",
   "metadata": {},
   "source": [
    "#### The corelation coefficent is a number not vey close to~1, it can be said that the intial and final scores of losers are moderately related therefore it could not be inffered with certainity that if a player had a low initial score will be Loser of the game, but as coefficient will move closer to 1 they will have a strong realtionship and one will positively and strongly affect the other"
   ]
  },
  {
   "cell_type": "markdown",
   "metadata": {},
   "source": [
    "#### The correlation coefficient for winner and loser is the same because the max value of card deck is constant ie 364, they are highly dependent if the total of one will increase by someamount the total of other will decrease by the same amount  "
   ]
  },
  {
   "cell_type": "code",
   "execution_count": null,
   "metadata": {},
   "outputs": [],
   "source": []
  }
 ],
 "metadata": {
  "kernelspec": {
   "display_name": "Python 3",
   "language": "python",
   "name": "python3"
  },
  "language_info": {
   "codemirror_mode": {
    "name": "ipython",
    "version": 3
   },
   "file_extension": ".py",
   "mimetype": "text/x-python",
   "name": "python",
   "nbconvert_exporter": "python",
   "pygments_lexer": "ipython3",
   "version": "3.7.3"
  }
 },
 "nbformat": 4,
 "nbformat_minor": 2
}
